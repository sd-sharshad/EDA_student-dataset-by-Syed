{
 "cells": [
  {
   "cell_type": "markdown",
   "id": "9df94d22-67f0-4754-a996-37241b1c967e",
   "metadata": {},
   "source": [
    "# Data Analysis On Marks Of Students"
   ]
  },
  {
   "cell_type": "markdown",
   "id": "7251a2f4-2b75-41a6-8ddf-67a8ab365756",
   "metadata": {},
   "source": [
    "### importing all necessary files"
   ]
  },
  {
   "cell_type": "code",
   "execution_count": 2,
   "id": "e35b91a5-8bce-40fa-a82b-63d3319451a0",
   "metadata": {},
   "outputs": [],
   "source": [
    "import pandas as pd\n",
    "import numpy as np\n",
    "import seaborn as sns\n",
    "from matplotlib import pyplot as plt"
   ]
  },
  {
   "cell_type": "markdown",
   "id": "e64ccd28-2bbe-4055-a317-41d4daddebbf",
   "metadata": {},
   "source": [
    "### Loading File"
   ]
  },
  {
   "cell_type": "code",
   "execution_count": 4,
   "id": "00a08130-f915-4366-8345-fbcea928f060",
   "metadata": {},
   "outputs": [],
   "source": [
    "data=pd.read_csv(\"student-scores.csv\")"
   ]
  },
  {
   "cell_type": "code",
   "execution_count": null,
   "id": "f307e902-e4e9-40ce-b4b9-32607a1b4ed5",
   "metadata": {},
   "outputs": [],
   "source": [
    "### making colums for total marks and percentage and grade"
   ]
  },
  {
   "cell_type": "code",
   "execution_count": 5,
   "id": "296f1f9b-fa92-44f2-9fee-1a28721446e1",
   "metadata": {},
   "outputs": [
    {
     "data": {
      "text/html": [
       "<div>\n",
       "<style scoped>\n",
       "    .dataframe tbody tr th:only-of-type {\n",
       "        vertical-align: middle;\n",
       "    }\n",
       "\n",
       "    .dataframe tbody tr th {\n",
       "        vertical-align: top;\n",
       "    }\n",
       "\n",
       "    .dataframe thead th {\n",
       "        text-align: right;\n",
       "    }\n",
       "</style>\n",
       "<table border=\"1\" class=\"dataframe\">\n",
       "  <thead>\n",
       "    <tr style=\"text-align: right;\">\n",
       "      <th></th>\n",
       "      <th>id</th>\n",
       "      <th>first_name</th>\n",
       "      <th>last_name</th>\n",
       "      <th>email</th>\n",
       "      <th>gender</th>\n",
       "      <th>part_time_job</th>\n",
       "      <th>absence_days</th>\n",
       "      <th>extracurricular_activities</th>\n",
       "      <th>weekly_self_study_hours</th>\n",
       "      <th>career_aspiration</th>\n",
       "      <th>math_score</th>\n",
       "      <th>history_score</th>\n",
       "      <th>physics_score</th>\n",
       "      <th>chemistry_score</th>\n",
       "      <th>biology_score</th>\n",
       "      <th>english_score</th>\n",
       "      <th>geography_score</th>\n",
       "    </tr>\n",
       "  </thead>\n",
       "  <tbody>\n",
       "    <tr>\n",
       "      <th>0</th>\n",
       "      <td>1</td>\n",
       "      <td>Paul</td>\n",
       "      <td>Casey</td>\n",
       "      <td>paul.casey.1@gslingacademy.com</td>\n",
       "      <td>male</td>\n",
       "      <td>False</td>\n",
       "      <td>3</td>\n",
       "      <td>False</td>\n",
       "      <td>27</td>\n",
       "      <td>Lawyer</td>\n",
       "      <td>73</td>\n",
       "      <td>81</td>\n",
       "      <td>93</td>\n",
       "      <td>97</td>\n",
       "      <td>63</td>\n",
       "      <td>80</td>\n",
       "      <td>87</td>\n",
       "    </tr>\n",
       "    <tr>\n",
       "      <th>1</th>\n",
       "      <td>2</td>\n",
       "      <td>Danielle</td>\n",
       "      <td>Sandoval</td>\n",
       "      <td>danielle.sandoval.2@gslingacademy.com</td>\n",
       "      <td>female</td>\n",
       "      <td>False</td>\n",
       "      <td>2</td>\n",
       "      <td>False</td>\n",
       "      <td>47</td>\n",
       "      <td>Doctor</td>\n",
       "      <td>90</td>\n",
       "      <td>86</td>\n",
       "      <td>96</td>\n",
       "      <td>100</td>\n",
       "      <td>90</td>\n",
       "      <td>88</td>\n",
       "      <td>90</td>\n",
       "    </tr>\n",
       "    <tr>\n",
       "      <th>2</th>\n",
       "      <td>3</td>\n",
       "      <td>Tina</td>\n",
       "      <td>Andrews</td>\n",
       "      <td>tina.andrews.3@gslingacademy.com</td>\n",
       "      <td>female</td>\n",
       "      <td>False</td>\n",
       "      <td>9</td>\n",
       "      <td>True</td>\n",
       "      <td>13</td>\n",
       "      <td>Government Officer</td>\n",
       "      <td>81</td>\n",
       "      <td>97</td>\n",
       "      <td>95</td>\n",
       "      <td>96</td>\n",
       "      <td>65</td>\n",
       "      <td>77</td>\n",
       "      <td>94</td>\n",
       "    </tr>\n",
       "    <tr>\n",
       "      <th>3</th>\n",
       "      <td>4</td>\n",
       "      <td>Tara</td>\n",
       "      <td>Clark</td>\n",
       "      <td>tara.clark.4@gslingacademy.com</td>\n",
       "      <td>female</td>\n",
       "      <td>False</td>\n",
       "      <td>5</td>\n",
       "      <td>False</td>\n",
       "      <td>3</td>\n",
       "      <td>Artist</td>\n",
       "      <td>71</td>\n",
       "      <td>74</td>\n",
       "      <td>88</td>\n",
       "      <td>80</td>\n",
       "      <td>89</td>\n",
       "      <td>63</td>\n",
       "      <td>86</td>\n",
       "    </tr>\n",
       "    <tr>\n",
       "      <th>4</th>\n",
       "      <td>5</td>\n",
       "      <td>Anthony</td>\n",
       "      <td>Campos</td>\n",
       "      <td>anthony.campos.5@gslingacademy.com</td>\n",
       "      <td>male</td>\n",
       "      <td>False</td>\n",
       "      <td>5</td>\n",
       "      <td>False</td>\n",
       "      <td>10</td>\n",
       "      <td>Unknown</td>\n",
       "      <td>84</td>\n",
       "      <td>77</td>\n",
       "      <td>65</td>\n",
       "      <td>65</td>\n",
       "      <td>80</td>\n",
       "      <td>74</td>\n",
       "      <td>76</td>\n",
       "    </tr>\n",
       "  </tbody>\n",
       "</table>\n",
       "</div>"
      ],
      "text/plain": [
       "   id first_name last_name                                  email  gender  \\\n",
       "0   1       Paul     Casey         paul.casey.1@gslingacademy.com    male   \n",
       "1   2   Danielle  Sandoval  danielle.sandoval.2@gslingacademy.com  female   \n",
       "2   3       Tina   Andrews       tina.andrews.3@gslingacademy.com  female   \n",
       "3   4       Tara     Clark         tara.clark.4@gslingacademy.com  female   \n",
       "4   5    Anthony    Campos     anthony.campos.5@gslingacademy.com    male   \n",
       "\n",
       "   part_time_job  absence_days  extracurricular_activities  \\\n",
       "0          False             3                       False   \n",
       "1          False             2                       False   \n",
       "2          False             9                        True   \n",
       "3          False             5                       False   \n",
       "4          False             5                       False   \n",
       "\n",
       "   weekly_self_study_hours   career_aspiration  math_score  history_score  \\\n",
       "0                       27              Lawyer          73             81   \n",
       "1                       47              Doctor          90             86   \n",
       "2                       13  Government Officer          81             97   \n",
       "3                        3              Artist          71             74   \n",
       "4                       10             Unknown          84             77   \n",
       "\n",
       "   physics_score  chemistry_score  biology_score  english_score  \\\n",
       "0             93               97             63             80   \n",
       "1             96              100             90             88   \n",
       "2             95               96             65             77   \n",
       "3             88               80             89             63   \n",
       "4             65               65             80             74   \n",
       "\n",
       "   geography_score  \n",
       "0               87  \n",
       "1               90  \n",
       "2               94  \n",
       "3               86  \n",
       "4               76  "
      ]
     },
     "execution_count": 5,
     "metadata": {},
     "output_type": "execute_result"
    }
   ],
   "source": [
    "data.head()"
   ]
  },
  {
   "cell_type": "markdown",
   "id": "4bc93686-df07-4832-9cf9-b6735b79780b",
   "metadata": {},
   "source": [
    "### Collecting Information"
   ]
  },
  {
   "cell_type": "code",
   "execution_count": 28,
   "id": "41a3a05f-03a4-4ea4-ba46-433f439e8b66",
   "metadata": {},
   "outputs": [
    {
     "name": "stdout",
     "output_type": "stream",
     "text": [
      "<class 'pandas.core.frame.DataFrame'>\n",
      "RangeIndex: 2000 entries, 0 to 1999\n",
      "Data columns (total 20 columns):\n",
      " #   Column                      Non-Null Count  Dtype  \n",
      "---  ------                      --------------  -----  \n",
      " 0   id                          2000 non-null   int64  \n",
      " 1   first_name                  2000 non-null   object \n",
      " 2   last_name                   2000 non-null   object \n",
      " 3   email                       2000 non-null   object \n",
      " 4   gender                      2000 non-null   object \n",
      " 5   part_time_job               2000 non-null   bool   \n",
      " 6   absence_days                2000 non-null   int64  \n",
      " 7   extracurricular_activities  2000 non-null   bool   \n",
      " 8   weekly_self_study_hours     2000 non-null   int64  \n",
      " 9   career_aspiration           2000 non-null   object \n",
      " 10  math_score                  2000 non-null   int64  \n",
      " 11  history_score               2000 non-null   int64  \n",
      " 12  physics_score               2000 non-null   int64  \n",
      " 13  chemistry_score             2000 non-null   int64  \n",
      " 14  biology_score               2000 non-null   int64  \n",
      " 15  english_score               2000 non-null   int64  \n",
      " 16  geography_score             2000 non-null   int64  \n",
      " 17  Sum_Score                   2000 non-null   int64  \n",
      " 18  Percentage                  2000 non-null   float64\n",
      " 19  grade                       2000 non-null   object \n",
      "dtypes: bool(2), float64(1), int64(11), object(6)\n",
      "memory usage: 285.3+ KB\n"
     ]
    }
   ],
   "source": [
    "data.info()"
   ]
  },
  {
   "cell_type": "code",
   "execution_count": 29,
   "id": "7df04825-e163-47fd-b2cd-1d7e02d3adcf",
   "metadata": {},
   "outputs": [
    {
     "data": {
      "text/html": [
       "<div>\n",
       "<style scoped>\n",
       "    .dataframe tbody tr th:only-of-type {\n",
       "        vertical-align: middle;\n",
       "    }\n",
       "\n",
       "    .dataframe tbody tr th {\n",
       "        vertical-align: top;\n",
       "    }\n",
       "\n",
       "    .dataframe thead th {\n",
       "        text-align: right;\n",
       "    }\n",
       "</style>\n",
       "<table border=\"1\" class=\"dataframe\">\n",
       "  <thead>\n",
       "    <tr style=\"text-align: right;\">\n",
       "      <th></th>\n",
       "      <th>id</th>\n",
       "      <th>absence_days</th>\n",
       "      <th>weekly_self_study_hours</th>\n",
       "      <th>math_score</th>\n",
       "      <th>history_score</th>\n",
       "      <th>physics_score</th>\n",
       "      <th>chemistry_score</th>\n",
       "      <th>biology_score</th>\n",
       "      <th>english_score</th>\n",
       "      <th>geography_score</th>\n",
       "      <th>Sum_Score</th>\n",
       "      <th>Percentage</th>\n",
       "    </tr>\n",
       "  </thead>\n",
       "  <tbody>\n",
       "    <tr>\n",
       "      <th>count</th>\n",
       "      <td>2000.000000</td>\n",
       "      <td>2000.000000</td>\n",
       "      <td>2000.000000</td>\n",
       "      <td>2000.000000</td>\n",
       "      <td>2000.000000</td>\n",
       "      <td>2000.000000</td>\n",
       "      <td>2000.000000</td>\n",
       "      <td>2000.00000</td>\n",
       "      <td>2000.000000</td>\n",
       "      <td>2000.000000</td>\n",
       "      <td>2000.000000</td>\n",
       "      <td>2000.000000</td>\n",
       "    </tr>\n",
       "    <tr>\n",
       "      <th>mean</th>\n",
       "      <td>1000.500000</td>\n",
       "      <td>3.665500</td>\n",
       "      <td>17.755500</td>\n",
       "      <td>83.452000</td>\n",
       "      <td>80.332000</td>\n",
       "      <td>81.336500</td>\n",
       "      <td>79.995000</td>\n",
       "      <td>79.58150</td>\n",
       "      <td>81.277500</td>\n",
       "      <td>80.888000</td>\n",
       "      <td>566.862500</td>\n",
       "      <td>80.980357</td>\n",
       "    </tr>\n",
       "    <tr>\n",
       "      <th>std</th>\n",
       "      <td>577.494589</td>\n",
       "      <td>2.629271</td>\n",
       "      <td>12.129604</td>\n",
       "      <td>13.224906</td>\n",
       "      <td>12.736046</td>\n",
       "      <td>12.539453</td>\n",
       "      <td>12.777895</td>\n",
       "      <td>13.72219</td>\n",
       "      <td>12.027087</td>\n",
       "      <td>11.637705</td>\n",
       "      <td>42.295568</td>\n",
       "      <td>6.042224</td>\n",
       "    </tr>\n",
       "    <tr>\n",
       "      <th>min</th>\n",
       "      <td>1.000000</td>\n",
       "      <td>0.000000</td>\n",
       "      <td>0.000000</td>\n",
       "      <td>40.000000</td>\n",
       "      <td>50.000000</td>\n",
       "      <td>50.000000</td>\n",
       "      <td>50.000000</td>\n",
       "      <td>30.00000</td>\n",
       "      <td>50.000000</td>\n",
       "      <td>60.000000</td>\n",
       "      <td>414.000000</td>\n",
       "      <td>59.142857</td>\n",
       "    </tr>\n",
       "    <tr>\n",
       "      <th>25%</th>\n",
       "      <td>500.750000</td>\n",
       "      <td>2.000000</td>\n",
       "      <td>5.000000</td>\n",
       "      <td>77.000000</td>\n",
       "      <td>69.750000</td>\n",
       "      <td>71.000000</td>\n",
       "      <td>69.000000</td>\n",
       "      <td>69.00000</td>\n",
       "      <td>72.000000</td>\n",
       "      <td>71.000000</td>\n",
       "      <td>541.000000</td>\n",
       "      <td>77.285714</td>\n",
       "    </tr>\n",
       "    <tr>\n",
       "      <th>50%</th>\n",
       "      <td>1000.500000</td>\n",
       "      <td>3.000000</td>\n",
       "      <td>18.000000</td>\n",
       "      <td>87.000000</td>\n",
       "      <td>82.000000</td>\n",
       "      <td>83.000000</td>\n",
       "      <td>81.000000</td>\n",
       "      <td>81.00000</td>\n",
       "      <td>83.000000</td>\n",
       "      <td>81.000000</td>\n",
       "      <td>567.000000</td>\n",
       "      <td>81.000000</td>\n",
       "    </tr>\n",
       "    <tr>\n",
       "      <th>75%</th>\n",
       "      <td>1500.250000</td>\n",
       "      <td>5.000000</td>\n",
       "      <td>28.000000</td>\n",
       "      <td>93.000000</td>\n",
       "      <td>91.000000</td>\n",
       "      <td>92.000000</td>\n",
       "      <td>91.000000</td>\n",
       "      <td>91.00000</td>\n",
       "      <td>91.000000</td>\n",
       "      <td>91.000000</td>\n",
       "      <td>593.000000</td>\n",
       "      <td>84.714286</td>\n",
       "    </tr>\n",
       "    <tr>\n",
       "      <th>max</th>\n",
       "      <td>2000.000000</td>\n",
       "      <td>10.000000</td>\n",
       "      <td>50.000000</td>\n",
       "      <td>100.000000</td>\n",
       "      <td>100.000000</td>\n",
       "      <td>100.000000</td>\n",
       "      <td>100.000000</td>\n",
       "      <td>100.00000</td>\n",
       "      <td>99.000000</td>\n",
       "      <td>100.000000</td>\n",
       "      <td>673.000000</td>\n",
       "      <td>96.142857</td>\n",
       "    </tr>\n",
       "  </tbody>\n",
       "</table>\n",
       "</div>"
      ],
      "text/plain": [
       "                id  absence_days  weekly_self_study_hours   math_score  \\\n",
       "count  2000.000000   2000.000000              2000.000000  2000.000000   \n",
       "mean   1000.500000      3.665500                17.755500    83.452000   \n",
       "std     577.494589      2.629271                12.129604    13.224906   \n",
       "min       1.000000      0.000000                 0.000000    40.000000   \n",
       "25%     500.750000      2.000000                 5.000000    77.000000   \n",
       "50%    1000.500000      3.000000                18.000000    87.000000   \n",
       "75%    1500.250000      5.000000                28.000000    93.000000   \n",
       "max    2000.000000     10.000000                50.000000   100.000000   \n",
       "\n",
       "       history_score  physics_score  chemistry_score  biology_score  \\\n",
       "count    2000.000000    2000.000000      2000.000000     2000.00000   \n",
       "mean       80.332000      81.336500        79.995000       79.58150   \n",
       "std        12.736046      12.539453        12.777895       13.72219   \n",
       "min        50.000000      50.000000        50.000000       30.00000   \n",
       "25%        69.750000      71.000000        69.000000       69.00000   \n",
       "50%        82.000000      83.000000        81.000000       81.00000   \n",
       "75%        91.000000      92.000000        91.000000       91.00000   \n",
       "max       100.000000     100.000000       100.000000      100.00000   \n",
       "\n",
       "       english_score  geography_score    Sum_Score   Percentage  \n",
       "count    2000.000000      2000.000000  2000.000000  2000.000000  \n",
       "mean       81.277500        80.888000   566.862500    80.980357  \n",
       "std        12.027087        11.637705    42.295568     6.042224  \n",
       "min        50.000000        60.000000   414.000000    59.142857  \n",
       "25%        72.000000        71.000000   541.000000    77.285714  \n",
       "50%        83.000000        81.000000   567.000000    81.000000  \n",
       "75%        91.000000        91.000000   593.000000    84.714286  \n",
       "max        99.000000       100.000000   673.000000    96.142857  "
      ]
     },
     "execution_count": 29,
     "metadata": {},
     "output_type": "execute_result"
    }
   ],
   "source": [
    "data.describe()"
   ]
  },
  {
   "cell_type": "code",
   "execution_count": 30,
   "id": "f673c8a0-8ce5-4894-a28e-80ed801145bd",
   "metadata": {},
   "outputs": [],
   "source": [
    "### we can see the most minimum marks are in biology and also the minimum self study hours are 0 which means some student doesnt study "
   ]
  },
  {
   "cell_type": "code",
   "execution_count": 27,
   "id": "cfdc51ba-086d-41d2-866b-e6f5f86f641f",
   "metadata": {},
   "outputs": [],
   "source": [
    "score_columns = ['math_score', 'history_score', 'physics_score', 'chemistry_score', 'biology_score', 'english_score', 'geography_score']\n",
    "data[\"Sum_Score\"]=data[score_columss].sum(axis=1)"
   ]
  },
  {
   "cell_type": "code",
   "execution_count": 12,
   "id": "30770bee-baa7-4727-a77c-3050d33c91ab",
   "metadata": {},
   "outputs": [],
   "source": [
    "max_marks=100\n",
    "total_marks=len(score_columns)*max_marks\n",
    "data[\"Percentage\"]=(data[\"Sum_Score\"]/total_marks)*100"
   ]
  },
  {
   "cell_type": "code",
   "execution_count": 14,
   "id": "84750fd1-6b1f-4a90-bf28-22ae5c742343",
   "metadata": {},
   "outputs": [],
   "source": [
    "def assign_grade(percentage):\n",
    "    if percentage >= 90:\n",
    "        return 'A'\n",
    "    elif percentage >= 80:\n",
    "        return 'B'\n",
    "    elif percentage >= 70:\n",
    "        return 'C'\n",
    "    elif percentage >= 60:\n",
    "        return 'D'\n",
    "    else:\n",
    "        return 'F'\n",
    "\n",
    "data['grade'] = data['Percentage'].apply(assign_grade)"
   ]
  },
  {
   "cell_type": "code",
   "execution_count": 15,
   "id": "5b2912a0-7241-4578-85d5-fe6955fcf428",
   "metadata": {},
   "outputs": [],
   "source": [
    "### viewing data"
   ]
  },
  {
   "cell_type": "code",
   "execution_count": 16,
   "id": "09e464e0-fc81-4050-a16c-eccf77636891",
   "metadata": {},
   "outputs": [
    {
     "data": {
      "text/html": [
       "<div>\n",
       "<style scoped>\n",
       "    .dataframe tbody tr th:only-of-type {\n",
       "        vertical-align: middle;\n",
       "    }\n",
       "\n",
       "    .dataframe tbody tr th {\n",
       "        vertical-align: top;\n",
       "    }\n",
       "\n",
       "    .dataframe thead th {\n",
       "        text-align: right;\n",
       "    }\n",
       "</style>\n",
       "<table border=\"1\" class=\"dataframe\">\n",
       "  <thead>\n",
       "    <tr style=\"text-align: right;\">\n",
       "      <th></th>\n",
       "      <th>id</th>\n",
       "      <th>first_name</th>\n",
       "      <th>last_name</th>\n",
       "      <th>email</th>\n",
       "      <th>gender</th>\n",
       "      <th>part_time_job</th>\n",
       "      <th>absence_days</th>\n",
       "      <th>extracurricular_activities</th>\n",
       "      <th>weekly_self_study_hours</th>\n",
       "      <th>career_aspiration</th>\n",
       "      <th>math_score</th>\n",
       "      <th>history_score</th>\n",
       "      <th>physics_score</th>\n",
       "      <th>chemistry_score</th>\n",
       "      <th>biology_score</th>\n",
       "      <th>english_score</th>\n",
       "      <th>geography_score</th>\n",
       "      <th>Sum_Score</th>\n",
       "      <th>Percentage</th>\n",
       "      <th>grade</th>\n",
       "    </tr>\n",
       "  </thead>\n",
       "  <tbody>\n",
       "    <tr>\n",
       "      <th>0</th>\n",
       "      <td>1</td>\n",
       "      <td>Paul</td>\n",
       "      <td>Casey</td>\n",
       "      <td>paul.casey.1@gslingacademy.com</td>\n",
       "      <td>male</td>\n",
       "      <td>False</td>\n",
       "      <td>3</td>\n",
       "      <td>False</td>\n",
       "      <td>27</td>\n",
       "      <td>Lawyer</td>\n",
       "      <td>73</td>\n",
       "      <td>81</td>\n",
       "      <td>93</td>\n",
       "      <td>97</td>\n",
       "      <td>63</td>\n",
       "      <td>80</td>\n",
       "      <td>87</td>\n",
       "      <td>574</td>\n",
       "      <td>82.000000</td>\n",
       "      <td>B</td>\n",
       "    </tr>\n",
       "    <tr>\n",
       "      <th>1</th>\n",
       "      <td>2</td>\n",
       "      <td>Danielle</td>\n",
       "      <td>Sandoval</td>\n",
       "      <td>danielle.sandoval.2@gslingacademy.com</td>\n",
       "      <td>female</td>\n",
       "      <td>False</td>\n",
       "      <td>2</td>\n",
       "      <td>False</td>\n",
       "      <td>47</td>\n",
       "      <td>Doctor</td>\n",
       "      <td>90</td>\n",
       "      <td>86</td>\n",
       "      <td>96</td>\n",
       "      <td>100</td>\n",
       "      <td>90</td>\n",
       "      <td>88</td>\n",
       "      <td>90</td>\n",
       "      <td>640</td>\n",
       "      <td>91.428571</td>\n",
       "      <td>A</td>\n",
       "    </tr>\n",
       "    <tr>\n",
       "      <th>2</th>\n",
       "      <td>3</td>\n",
       "      <td>Tina</td>\n",
       "      <td>Andrews</td>\n",
       "      <td>tina.andrews.3@gslingacademy.com</td>\n",
       "      <td>female</td>\n",
       "      <td>False</td>\n",
       "      <td>9</td>\n",
       "      <td>True</td>\n",
       "      <td>13</td>\n",
       "      <td>Government Officer</td>\n",
       "      <td>81</td>\n",
       "      <td>97</td>\n",
       "      <td>95</td>\n",
       "      <td>96</td>\n",
       "      <td>65</td>\n",
       "      <td>77</td>\n",
       "      <td>94</td>\n",
       "      <td>605</td>\n",
       "      <td>86.428571</td>\n",
       "      <td>B</td>\n",
       "    </tr>\n",
       "    <tr>\n",
       "      <th>3</th>\n",
       "      <td>4</td>\n",
       "      <td>Tara</td>\n",
       "      <td>Clark</td>\n",
       "      <td>tara.clark.4@gslingacademy.com</td>\n",
       "      <td>female</td>\n",
       "      <td>False</td>\n",
       "      <td>5</td>\n",
       "      <td>False</td>\n",
       "      <td>3</td>\n",
       "      <td>Artist</td>\n",
       "      <td>71</td>\n",
       "      <td>74</td>\n",
       "      <td>88</td>\n",
       "      <td>80</td>\n",
       "      <td>89</td>\n",
       "      <td>63</td>\n",
       "      <td>86</td>\n",
       "      <td>551</td>\n",
       "      <td>78.714286</td>\n",
       "      <td>C</td>\n",
       "    </tr>\n",
       "    <tr>\n",
       "      <th>4</th>\n",
       "      <td>5</td>\n",
       "      <td>Anthony</td>\n",
       "      <td>Campos</td>\n",
       "      <td>anthony.campos.5@gslingacademy.com</td>\n",
       "      <td>male</td>\n",
       "      <td>False</td>\n",
       "      <td>5</td>\n",
       "      <td>False</td>\n",
       "      <td>10</td>\n",
       "      <td>Unknown</td>\n",
       "      <td>84</td>\n",
       "      <td>77</td>\n",
       "      <td>65</td>\n",
       "      <td>65</td>\n",
       "      <td>80</td>\n",
       "      <td>74</td>\n",
       "      <td>76</td>\n",
       "      <td>521</td>\n",
       "      <td>74.428571</td>\n",
       "      <td>C</td>\n",
       "    </tr>\n",
       "  </tbody>\n",
       "</table>\n",
       "</div>"
      ],
      "text/plain": [
       "   id first_name last_name                                  email  gender  \\\n",
       "0   1       Paul     Casey         paul.casey.1@gslingacademy.com    male   \n",
       "1   2   Danielle  Sandoval  danielle.sandoval.2@gslingacademy.com  female   \n",
       "2   3       Tina   Andrews       tina.andrews.3@gslingacademy.com  female   \n",
       "3   4       Tara     Clark         tara.clark.4@gslingacademy.com  female   \n",
       "4   5    Anthony    Campos     anthony.campos.5@gslingacademy.com    male   \n",
       "\n",
       "   part_time_job  absence_days  extracurricular_activities  \\\n",
       "0          False             3                       False   \n",
       "1          False             2                       False   \n",
       "2          False             9                        True   \n",
       "3          False             5                       False   \n",
       "4          False             5                       False   \n",
       "\n",
       "   weekly_self_study_hours   career_aspiration  math_score  history_score  \\\n",
       "0                       27              Lawyer          73             81   \n",
       "1                       47              Doctor          90             86   \n",
       "2                       13  Government Officer          81             97   \n",
       "3                        3              Artist          71             74   \n",
       "4                       10             Unknown          84             77   \n",
       "\n",
       "   physics_score  chemistry_score  biology_score  english_score  \\\n",
       "0             93               97             63             80   \n",
       "1             96              100             90             88   \n",
       "2             95               96             65             77   \n",
       "3             88               80             89             63   \n",
       "4             65               65             80             74   \n",
       "\n",
       "   geography_score  Sum_Score  Percentage grade  \n",
       "0               87        574   82.000000     B  \n",
       "1               90        640   91.428571     A  \n",
       "2               94        605   86.428571     B  \n",
       "3               86        551   78.714286     C  \n",
       "4               76        521   74.428571     C  "
      ]
     },
     "execution_count": 16,
     "metadata": {},
     "output_type": "execute_result"
    }
   ],
   "source": [
    "data.head()"
   ]
  },
  {
   "cell_type": "markdown",
   "id": "88ff1a91-d207-4938-adf1-3ef40fb9f862",
   "metadata": {},
   "source": [
    "### Checking For Null Values"
   ]
  },
  {
   "cell_type": "code",
   "execution_count": 18,
   "id": "24a00661-e712-47b2-b9c2-a85337fe127d",
   "metadata": {},
   "outputs": [
    {
     "data": {
      "text/html": [
       "<div>\n",
       "<style scoped>\n",
       "    .dataframe tbody tr th:only-of-type {\n",
       "        vertical-align: middle;\n",
       "    }\n",
       "\n",
       "    .dataframe tbody tr th {\n",
       "        vertical-align: top;\n",
       "    }\n",
       "\n",
       "    .dataframe thead th {\n",
       "        text-align: right;\n",
       "    }\n",
       "</style>\n",
       "<table border=\"1\" class=\"dataframe\">\n",
       "  <thead>\n",
       "    <tr style=\"text-align: right;\">\n",
       "      <th></th>\n",
       "      <th>id</th>\n",
       "      <th>first_name</th>\n",
       "      <th>last_name</th>\n",
       "      <th>email</th>\n",
       "      <th>gender</th>\n",
       "      <th>part_time_job</th>\n",
       "      <th>absence_days</th>\n",
       "      <th>extracurricular_activities</th>\n",
       "      <th>weekly_self_study_hours</th>\n",
       "      <th>career_aspiration</th>\n",
       "      <th>math_score</th>\n",
       "      <th>history_score</th>\n",
       "      <th>physics_score</th>\n",
       "      <th>chemistry_score</th>\n",
       "      <th>biology_score</th>\n",
       "      <th>english_score</th>\n",
       "      <th>geography_score</th>\n",
       "      <th>Sum_Score</th>\n",
       "      <th>Percentage</th>\n",
       "      <th>grade</th>\n",
       "    </tr>\n",
       "  </thead>\n",
       "  <tbody>\n",
       "    <tr>\n",
       "      <th>0</th>\n",
       "      <td>False</td>\n",
       "      <td>False</td>\n",
       "      <td>False</td>\n",
       "      <td>False</td>\n",
       "      <td>False</td>\n",
       "      <td>False</td>\n",
       "      <td>False</td>\n",
       "      <td>False</td>\n",
       "      <td>False</td>\n",
       "      <td>False</td>\n",
       "      <td>False</td>\n",
       "      <td>False</td>\n",
       "      <td>False</td>\n",
       "      <td>False</td>\n",
       "      <td>False</td>\n",
       "      <td>False</td>\n",
       "      <td>False</td>\n",
       "      <td>False</td>\n",
       "      <td>False</td>\n",
       "      <td>False</td>\n",
       "    </tr>\n",
       "    <tr>\n",
       "      <th>1</th>\n",
       "      <td>False</td>\n",
       "      <td>False</td>\n",
       "      <td>False</td>\n",
       "      <td>False</td>\n",
       "      <td>False</td>\n",
       "      <td>False</td>\n",
       "      <td>False</td>\n",
       "      <td>False</td>\n",
       "      <td>False</td>\n",
       "      <td>False</td>\n",
       "      <td>False</td>\n",
       "      <td>False</td>\n",
       "      <td>False</td>\n",
       "      <td>False</td>\n",
       "      <td>False</td>\n",
       "      <td>False</td>\n",
       "      <td>False</td>\n",
       "      <td>False</td>\n",
       "      <td>False</td>\n",
       "      <td>False</td>\n",
       "    </tr>\n",
       "    <tr>\n",
       "      <th>2</th>\n",
       "      <td>False</td>\n",
       "      <td>False</td>\n",
       "      <td>False</td>\n",
       "      <td>False</td>\n",
       "      <td>False</td>\n",
       "      <td>False</td>\n",
       "      <td>False</td>\n",
       "      <td>False</td>\n",
       "      <td>False</td>\n",
       "      <td>False</td>\n",
       "      <td>False</td>\n",
       "      <td>False</td>\n",
       "      <td>False</td>\n",
       "      <td>False</td>\n",
       "      <td>False</td>\n",
       "      <td>False</td>\n",
       "      <td>False</td>\n",
       "      <td>False</td>\n",
       "      <td>False</td>\n",
       "      <td>False</td>\n",
       "    </tr>\n",
       "    <tr>\n",
       "      <th>3</th>\n",
       "      <td>False</td>\n",
       "      <td>False</td>\n",
       "      <td>False</td>\n",
       "      <td>False</td>\n",
       "      <td>False</td>\n",
       "      <td>False</td>\n",
       "      <td>False</td>\n",
       "      <td>False</td>\n",
       "      <td>False</td>\n",
       "      <td>False</td>\n",
       "      <td>False</td>\n",
       "      <td>False</td>\n",
       "      <td>False</td>\n",
       "      <td>False</td>\n",
       "      <td>False</td>\n",
       "      <td>False</td>\n",
       "      <td>False</td>\n",
       "      <td>False</td>\n",
       "      <td>False</td>\n",
       "      <td>False</td>\n",
       "    </tr>\n",
       "    <tr>\n",
       "      <th>4</th>\n",
       "      <td>False</td>\n",
       "      <td>False</td>\n",
       "      <td>False</td>\n",
       "      <td>False</td>\n",
       "      <td>False</td>\n",
       "      <td>False</td>\n",
       "      <td>False</td>\n",
       "      <td>False</td>\n",
       "      <td>False</td>\n",
       "      <td>False</td>\n",
       "      <td>False</td>\n",
       "      <td>False</td>\n",
       "      <td>False</td>\n",
       "      <td>False</td>\n",
       "      <td>False</td>\n",
       "      <td>False</td>\n",
       "      <td>False</td>\n",
       "      <td>False</td>\n",
       "      <td>False</td>\n",
       "      <td>False</td>\n",
       "    </tr>\n",
       "    <tr>\n",
       "      <th>...</th>\n",
       "      <td>...</td>\n",
       "      <td>...</td>\n",
       "      <td>...</td>\n",
       "      <td>...</td>\n",
       "      <td>...</td>\n",
       "      <td>...</td>\n",
       "      <td>...</td>\n",
       "      <td>...</td>\n",
       "      <td>...</td>\n",
       "      <td>...</td>\n",
       "      <td>...</td>\n",
       "      <td>...</td>\n",
       "      <td>...</td>\n",
       "      <td>...</td>\n",
       "      <td>...</td>\n",
       "      <td>...</td>\n",
       "      <td>...</td>\n",
       "      <td>...</td>\n",
       "      <td>...</td>\n",
       "      <td>...</td>\n",
       "    </tr>\n",
       "    <tr>\n",
       "      <th>1995</th>\n",
       "      <td>False</td>\n",
       "      <td>False</td>\n",
       "      <td>False</td>\n",
       "      <td>False</td>\n",
       "      <td>False</td>\n",
       "      <td>False</td>\n",
       "      <td>False</td>\n",
       "      <td>False</td>\n",
       "      <td>False</td>\n",
       "      <td>False</td>\n",
       "      <td>False</td>\n",
       "      <td>False</td>\n",
       "      <td>False</td>\n",
       "      <td>False</td>\n",
       "      <td>False</td>\n",
       "      <td>False</td>\n",
       "      <td>False</td>\n",
       "      <td>False</td>\n",
       "      <td>False</td>\n",
       "      <td>False</td>\n",
       "    </tr>\n",
       "    <tr>\n",
       "      <th>1996</th>\n",
       "      <td>False</td>\n",
       "      <td>False</td>\n",
       "      <td>False</td>\n",
       "      <td>False</td>\n",
       "      <td>False</td>\n",
       "      <td>False</td>\n",
       "      <td>False</td>\n",
       "      <td>False</td>\n",
       "      <td>False</td>\n",
       "      <td>False</td>\n",
       "      <td>False</td>\n",
       "      <td>False</td>\n",
       "      <td>False</td>\n",
       "      <td>False</td>\n",
       "      <td>False</td>\n",
       "      <td>False</td>\n",
       "      <td>False</td>\n",
       "      <td>False</td>\n",
       "      <td>False</td>\n",
       "      <td>False</td>\n",
       "    </tr>\n",
       "    <tr>\n",
       "      <th>1997</th>\n",
       "      <td>False</td>\n",
       "      <td>False</td>\n",
       "      <td>False</td>\n",
       "      <td>False</td>\n",
       "      <td>False</td>\n",
       "      <td>False</td>\n",
       "      <td>False</td>\n",
       "      <td>False</td>\n",
       "      <td>False</td>\n",
       "      <td>False</td>\n",
       "      <td>False</td>\n",
       "      <td>False</td>\n",
       "      <td>False</td>\n",
       "      <td>False</td>\n",
       "      <td>False</td>\n",
       "      <td>False</td>\n",
       "      <td>False</td>\n",
       "      <td>False</td>\n",
       "      <td>False</td>\n",
       "      <td>False</td>\n",
       "    </tr>\n",
       "    <tr>\n",
       "      <th>1998</th>\n",
       "      <td>False</td>\n",
       "      <td>False</td>\n",
       "      <td>False</td>\n",
       "      <td>False</td>\n",
       "      <td>False</td>\n",
       "      <td>False</td>\n",
       "      <td>False</td>\n",
       "      <td>False</td>\n",
       "      <td>False</td>\n",
       "      <td>False</td>\n",
       "      <td>False</td>\n",
       "      <td>False</td>\n",
       "      <td>False</td>\n",
       "      <td>False</td>\n",
       "      <td>False</td>\n",
       "      <td>False</td>\n",
       "      <td>False</td>\n",
       "      <td>False</td>\n",
       "      <td>False</td>\n",
       "      <td>False</td>\n",
       "    </tr>\n",
       "    <tr>\n",
       "      <th>1999</th>\n",
       "      <td>False</td>\n",
       "      <td>False</td>\n",
       "      <td>False</td>\n",
       "      <td>False</td>\n",
       "      <td>False</td>\n",
       "      <td>False</td>\n",
       "      <td>False</td>\n",
       "      <td>False</td>\n",
       "      <td>False</td>\n",
       "      <td>False</td>\n",
       "      <td>False</td>\n",
       "      <td>False</td>\n",
       "      <td>False</td>\n",
       "      <td>False</td>\n",
       "      <td>False</td>\n",
       "      <td>False</td>\n",
       "      <td>False</td>\n",
       "      <td>False</td>\n",
       "      <td>False</td>\n",
       "      <td>False</td>\n",
       "    </tr>\n",
       "  </tbody>\n",
       "</table>\n",
       "<p>2000 rows × 20 columns</p>\n",
       "</div>"
      ],
      "text/plain": [
       "         id  first_name  last_name  email  gender  part_time_job  \\\n",
       "0     False       False      False  False   False          False   \n",
       "1     False       False      False  False   False          False   \n",
       "2     False       False      False  False   False          False   \n",
       "3     False       False      False  False   False          False   \n",
       "4     False       False      False  False   False          False   \n",
       "...     ...         ...        ...    ...     ...            ...   \n",
       "1995  False       False      False  False   False          False   \n",
       "1996  False       False      False  False   False          False   \n",
       "1997  False       False      False  False   False          False   \n",
       "1998  False       False      False  False   False          False   \n",
       "1999  False       False      False  False   False          False   \n",
       "\n",
       "      absence_days  extracurricular_activities  weekly_self_study_hours  \\\n",
       "0            False                       False                    False   \n",
       "1            False                       False                    False   \n",
       "2            False                       False                    False   \n",
       "3            False                       False                    False   \n",
       "4            False                       False                    False   \n",
       "...            ...                         ...                      ...   \n",
       "1995         False                       False                    False   \n",
       "1996         False                       False                    False   \n",
       "1997         False                       False                    False   \n",
       "1998         False                       False                    False   \n",
       "1999         False                       False                    False   \n",
       "\n",
       "      career_aspiration  math_score  history_score  physics_score  \\\n",
       "0                 False       False          False          False   \n",
       "1                 False       False          False          False   \n",
       "2                 False       False          False          False   \n",
       "3                 False       False          False          False   \n",
       "4                 False       False          False          False   \n",
       "...                 ...         ...            ...            ...   \n",
       "1995              False       False          False          False   \n",
       "1996              False       False          False          False   \n",
       "1997              False       False          False          False   \n",
       "1998              False       False          False          False   \n",
       "1999              False       False          False          False   \n",
       "\n",
       "      chemistry_score  biology_score  english_score  geography_score  \\\n",
       "0               False          False          False            False   \n",
       "1               False          False          False            False   \n",
       "2               False          False          False            False   \n",
       "3               False          False          False            False   \n",
       "4               False          False          False            False   \n",
       "...               ...            ...            ...              ...   \n",
       "1995            False          False          False            False   \n",
       "1996            False          False          False            False   \n",
       "1997            False          False          False            False   \n",
       "1998            False          False          False            False   \n",
       "1999            False          False          False            False   \n",
       "\n",
       "      Sum_Score  Percentage  grade  \n",
       "0         False       False  False  \n",
       "1         False       False  False  \n",
       "2         False       False  False  \n",
       "3         False       False  False  \n",
       "4         False       False  False  \n",
       "...         ...         ...    ...  \n",
       "1995      False       False  False  \n",
       "1996      False       False  False  \n",
       "1997      False       False  False  \n",
       "1998      False       False  False  \n",
       "1999      False       False  False  \n",
       "\n",
       "[2000 rows x 20 columns]"
      ]
     },
     "execution_count": 18,
     "metadata": {},
     "output_type": "execute_result"
    }
   ],
   "source": [
    "data.isnull()"
   ]
  },
  {
   "cell_type": "code",
   "execution_count": 19,
   "id": "b0f0b4e9-577d-4d3b-b12f-364ebf86ef4d",
   "metadata": {},
   "outputs": [
    {
     "data": {
      "text/plain": [
       "id                            0\n",
       "first_name                    0\n",
       "last_name                     0\n",
       "email                         0\n",
       "gender                        0\n",
       "part_time_job                 0\n",
       "absence_days                  0\n",
       "extracurricular_activities    0\n",
       "weekly_self_study_hours       0\n",
       "career_aspiration             0\n",
       "math_score                    0\n",
       "history_score                 0\n",
       "physics_score                 0\n",
       "chemistry_score               0\n",
       "biology_score                 0\n",
       "english_score                 0\n",
       "geography_score               0\n",
       "Sum_Score                     0\n",
       "Percentage                    0\n",
       "grade                         0\n",
       "dtype: int64"
      ]
     },
     "execution_count": 19,
     "metadata": {},
     "output_type": "execute_result"
    }
   ],
   "source": [
    "data.isnull().sum()"
   ]
  },
  {
   "cell_type": "code",
   "execution_count": 20,
   "id": "42fb78bb-066d-40ba-b39e-b414e0c7004f",
   "metadata": {},
   "outputs": [],
   "source": [
    "### There are no null values "
   ]
  },
  {
   "cell_type": "markdown",
   "id": "177e3eab-0b60-46dc-b70e-dc629dca1af9",
   "metadata": {},
   "source": [
    "### Checking for Duplicate Values"
   ]
  },
  {
   "cell_type": "code",
   "execution_count": 22,
   "id": "425b9264-d341-410d-89c0-75380e5d8bb8",
   "metadata": {},
   "outputs": [
    {
     "data": {
      "text/plain": [
       "0       False\n",
       "1       False\n",
       "2       False\n",
       "3       False\n",
       "4       False\n",
       "        ...  \n",
       "1995    False\n",
       "1996    False\n",
       "1997    False\n",
       "1998    False\n",
       "1999    False\n",
       "Length: 2000, dtype: bool"
      ]
     },
     "execution_count": 22,
     "metadata": {},
     "output_type": "execute_result"
    }
   ],
   "source": [
    "data.duplicated()"
   ]
  },
  {
   "cell_type": "code",
   "execution_count": 24,
   "id": "38192270-7a34-4336-b6ff-7aee44a39464",
   "metadata": {},
   "outputs": [
    {
     "data": {
      "text/plain": [
       "np.int64(0)"
      ]
     },
     "execution_count": 24,
     "metadata": {},
     "output_type": "execute_result"
    }
   ],
   "source": [
    "data.duplicated(subset=\"id\").sum()"
   ]
  },
  {
   "cell_type": "code",
   "execution_count": 25,
   "id": "e2cad50d-9359-417a-a5f2-da31860a627f",
   "metadata": {},
   "outputs": [
    {
     "data": {
      "text/plain": [
       "np.int64(0)"
      ]
     },
     "execution_count": 25,
     "metadata": {},
     "output_type": "execute_result"
    }
   ],
   "source": [
    "data.duplicated(subset=\"email\").sum()"
   ]
  },
  {
   "cell_type": "code",
   "execution_count": 26,
   "id": "3b4a5666-055c-492e-b63c-06c02a00bbe3",
   "metadata": {},
   "outputs": [],
   "source": [
    "### since there are no duplicate valeus we move on towards visualizations"
   ]
  },
  {
   "cell_type": "markdown",
   "id": "d2d5d7a3-56a8-4e20-be51-8760fbb022df",
   "metadata": {},
   "source": [
    "### Visualizations"
   ]
  },
  {
   "cell_type": "markdown",
   "id": "a57b6054-fb0d-4f32-96d0-4f4ff12eebb3",
   "metadata": {},
   "source": [
    "##### First we want to see how many students are there that have career aspirations"
   ]
  },
  {
   "cell_type": "code",
   "execution_count": 36,
   "id": "279dce4c-9e38-4851-80bd-50f964764192",
   "metadata": {},
   "outputs": [
    {
     "data": {
      "image/png": "[encoded data removed]",
      "text/plain": [
       "<Figure size 1400x800 with 1 Axes>"
      ]
     },
     "metadata": {},
     "output_type": "display_data"
    }
   ],
   "source": [
    "plt.figure(figsize=(14,8))\n",
    "sns.countplot(data=data,x=\"career_aspiration\",hue=\"gender\",palette='dark:blue')\n",
    "plt.xlabel(\"Career Aspirations\",fontsize=15)\n",
    "plt.ylabel(\"No.of Students\",fontsize=15)\n",
    "plt.xticks(rotation=45)\n",
    "plt.title(\"Count Plot Of Students Having Career Aspiration\")\n",
    "plt.show()"
   ]
  },
  {
   "cell_type": "markdown",
   "id": "33d8e558-0fc9-46c4-98f3-f263ce3698b4",
   "metadata": {},
   "source": [
    "##### How many Students are doing part time job"
   ]
  },
  {
   "cell_type": "code",
   "execution_count": 47,
   "id": "bb3c4a00-ae1d-4e5d-84c9-7f77a585b2a6",
   "metadata": {},
   "outputs": [
    {
     "data": {
      "image/png": "[encoded data removed]",
      "text/plain": [
       "<Figure size 800x400 with 1 Axes>"
      ]
     },
     "metadata": {},
     "output_type": "display_data"
    }
   ],
   "source": [
    "plt.figure(figsize=(8,4))\n",
    "sns.countplot(data=data,x=\"part_time_job\",hue=\"gender\",palette='dark:red',width=0.2,edgecolor=\"pink\")\n",
    "plt.xlabel(\"Part Time Job\",fontsize=15)\n",
    "plt.ylabel(\"No.of Students\",fontsize=15)\n",
    "plt.title(\"Count Plot Of Students Doing Part Time Job\")\n",
    "plt.show()"
   ]
  },
  {
   "cell_type": "markdown",
   "id": "9ee6fea9-7de1-4b54-91dd-359b93f9cd14",
   "metadata": {},
   "source": [
    "##### If the grade is depending upon gender"
   ]
  },
  {
   "cell_type": "code",
   "execution_count": 60,
   "id": "cf1f6067-4169-4381-a14a-df9c74ca074a",
   "metadata": {},
   "outputs": [
    {
     "data": {
      "image/png": "[encoded data removed]",
      "text/plain": [
       "<Figure size 1000x600 with 1 Axes>"
      ]
     },
     "metadata": {},
     "output_type": "display_data"
    }
   ],
   "source": [
    "# Create a crosstab of grades by gender\n",
    "grade_gender = pd.crosstab(data['grade'], data['gender'])\n",
    "grade_gender.plot(kind='bar', stacked=False, figsize=(10, 6))\n",
    "plt.show()"
   ]
  },
  {
   "cell_type": "code",
   "execution_count": 61,
   "id": "607feb61-aa97-4fc9-ac4f-7ac4c702dd2d",
   "metadata": {},
   "outputs": [],
   "source": [
    "#### As we can analyze that grades doesnt depends upon gender"
   ]
  },
  {
   "cell_type": "markdown",
   "id": "80e167d8-a0a4-4df5-b6b4-f5b42f042c94",
   "metadata": {},
   "source": [
    "##### If part time job plays an important role in students grade"
   ]
  },
  {
   "cell_type": "code",
   "execution_count": 74,
   "id": "25bd0116-a198-4a53-93af-b8cfbeee152d",
   "metadata": {},
   "outputs": [
    {
     "data": {
      "text/plain": [
       "<matplotlib.legend.Legend at 0x26718ade330>"
      ]
     },
     "execution_count": 74,
     "metadata": {},
     "output_type": "execute_result"
    },
    {
     "data": {
      "image/png": "[encoded data removed]",
      "text/plain": [
       "<Figure size 640x480 with 1 Axes>"
      ]
     },
     "metadata": {},
     "output_type": "display_data"
    }
   ],
   "source": [
    "\n",
    "sns.countplot(x='grade', hue='part_time_job', data=data, palette='Set1', dodge=True)\n",
    "plt.xlabel('Grades', fontsize=14)\n",
    "plt.ylabel('No of Students', fontsize=14)\n",
    "plt.title('Effect of Part-Time Job on Grades', fontsize=16)\n",
    "plt.legend(title='Part-Time Job', loc='upper right')"
   ]
  },
  {
   "cell_type": "code",
   "execution_count": 75,
   "id": "57358f98-d60b-49a3-8e9d-41c628db7e66",
   "metadata": {},
   "outputs": [],
   "source": [
    "##### As we can see part time job does't affect grades of student\n"
   ]
  },
  {
   "cell_type": "markdown",
   "id": "c1847a95-bd90-48c6-8174-975eb5690d33",
   "metadata": {},
   "source": [
    "##### If absence days might affect grades of Students"
   ]
  },
  {
   "cell_type": "code",
   "execution_count": 87,
   "id": "d414325e-59ae-4dfa-aba1-d5381441cde4",
   "metadata": {},
   "outputs": [
    {
     "data": {
      "image/png": "[encoded data removed]",
      "text/plain": [
       "<Figure size 640x480 with 1 Axes>"
      ]
     },
     "metadata": {},
     "output_type": "display_data"
    }
   ],
   "source": [
    "sns.barplot(data=data,x=\"grade\",y=\"absence_days\",color=\"red\",saturation=0.5,width=0.5)\n",
    "plt.ylabel(\"Absent Days\")\n",
    "plt.xlabel(\"Grades\")\n",
    "plt.title(\"Students Grades and Absence days\")\n",
    "plt.show()"
   ]
  },
  {
   "cell_type": "code",
   "execution_count": 88,
   "id": "d4e7d6da-6806-477e-b644-1268175518ac",
   "metadata": {},
   "outputs": [],
   "source": [
    "#### As we can see the more absent students have less grade, RESULT:: Less absenties have higher grades"
   ]
  },
  {
   "cell_type": "markdown",
   "id": "4a4fad74-53a3-46e4-adc4-b686149465e4",
   "metadata": {},
   "source": [
    "##### Grades Depending on Extracurricular Activities"
   ]
  },
  {
   "cell_type": "code",
   "execution_count": 97,
   "id": "7b35618f-4fee-4eaf-8ded-27537cef4633",
   "metadata": {},
   "outputs": [
    {
     "data": {
      "image/png": "[encoded data removed]",
      "text/plain": [
       "<Figure size 640x480 with 1 Axes>"
      ]
     },
     "metadata": {},
     "output_type": "display_data"
    }
   ],
   "source": [
    "sns.boxplot(data=data,x=\"gender\",y=\"grade\",hue=\"extracurricular_activities\")\n",
    "plt.xlabel(\"Gender\",fontsize=15)\n",
    "plt.ylabel(\"Grades\",fontsize=15)\n",
    "plt.title(\"Extracurricular Activities Effect On Grades\")\n",
    "plt.legend(loc=\"upper center\")\n",
    "plt.show()"
   ]
  },
  {
   "cell_type": "code",
   "execution_count": 98,
   "id": "30e9a67d-585c-4439-858a-c32c75392dc2",
   "metadata": {},
   "outputs": [],
   "source": [
    "#### as we can see extracurricular_activities have no affect on grades of student"
   ]
  },
  {
   "cell_type": "markdown",
   "id": "fc0652cd-d9b8-4fdf-8b51-ff3d0d663264",
   "metadata": {},
   "source": [
    "##### Grades Depending On Self Study Hours"
   ]
  },
  {
   "cell_type": "code",
   "execution_count": 109,
   "id": "d3860dae-ebe7-43de-8a09-a7ba471d5d60",
   "metadata": {},
   "outputs": [
    {
     "data": {
      "image/png": "[encoded data removed]",
      "text/plain": [
       "<Figure size 640x480 with 1 Axes>"
      ]
     },
     "metadata": {},
     "output_type": "display_data"
    }
   ],
   "source": [
    "sns.violinplot(data=data,x=\"grade\",y=\"weekly_self_study_hours\",color=\"blue\",linecolor=\"black\")\n",
    "plt.xlabel(\"Grades\",fontsize=15)\n",
    "plt.ylabel(\"Weekly Study Hours\",fontsize=15)\n",
    "plt.title(\"Self Study Hours And Grades\")\n",
    "plt.show()"
   ]
  },
  {
   "cell_type": "code",
   "execution_count": 110,
   "id": "a6989ba7-f125-417d-af4a-e11672736625",
   "metadata": {},
   "outputs": [],
   "source": [
    "#### As we can see the more self study hours is proportional to higher grades"
   ]
  },
  {
   "cell_type": "markdown",
   "id": "2d7d83db-6b14-4784-b0bd-49d35a04bf81",
   "metadata": {},
   "source": [
    "##### Now Taking Output As the Processed file"
   ]
  },
  {
   "cell_type": "code",
   "execution_count": 112,
   "id": "ba0ef952-9988-403f-a524-bc346595e995",
   "metadata": {},
   "outputs": [],
   "source": [
    "data.to_csv(\"Processed_File.csv\",index=False)"
   ]
  },
  {
   "cell_type": "code",
   "execution_count": null,
   "id": "9ecd6747-2611-47fc-b127-e34033abf5d5",
   "metadata": {},
   "outputs": [],
   "source": []
  }
 ],
 "metadata": {
  "kernelspec": {
   "display_name": "Python 3 (ipykernel)",
   "language": "python",
   "name": "python3"
  },
  "language_info": {
   "codemirror_mode": {
    "name": "ipython",
    "version": 3
   },
   "file_extension": ".py",
   "mimetype": "text/x-python",
   "name": "python",
   "nbconvert_exporter": "python",
   "pygments_lexer": "ipython3",
   "version": "3.12.4"
  }
 },
 "nbformat": 4,
 "nbformat_minor": 5
}
